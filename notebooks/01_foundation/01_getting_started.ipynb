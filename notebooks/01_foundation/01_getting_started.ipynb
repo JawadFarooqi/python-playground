{
 "cells": [
  {
   "cell_type": "code",
   "execution_count": 5,
   "id": "4db0c13f",
   "metadata": {},
   "outputs": [
    {
     "name": "stdout",
     "output_type": "stream",
     "text": [
      "Your Python Environment:\n",
      "  python: 3.13.2\n",
      "  platform: macOS-15.6-arm64-arm-64bit-Mach-O\n",
      "  executable: /Users/jawadfarooqi/dev/workspace/python-playground/.venv/bin/python\n",
      "  cwd: /Users/jawadfarooqi/dev/workspace/python-playground/notebooks/01_foundation\n"
     ]
    }
   ],
   "source": [
    "# Import our playground utilities\n",
    "from playground import timer, describe_env\n",
    "\n",
    "# Show information about your Python environment\n",
    "print(\"Your Python Environment:\")\n",
    "env = describe_env()\n",
    "for key, value in env.items():\n",
    "    print(f\"  {key}: {value}\")"
   ]
  },
  {
   "cell_type": "code",
   "execution_count": 6,
   "id": "724fa455",
   "metadata": {},
   "outputs": [
    {
     "name": "stdout",
     "output_type": "stream",
     "text": [
      "100 + 200 + 300 = 600\n",
      "That took basic math: 0.0000s\n",
      "Sum of numbers 0 to 9999 = 49995000\n",
      "That took big calculation: 0.0001s\n"
     ]
    }
   ],
   "source": [
    "# Time how long it takes to do calculations\n",
    "with timer(\"basic math\") as t:\n",
    "    result = 100 + 200 + 300\n",
    "    print(f\"100 + 200 + 300 = {result}\")\n",
    "\n",
    "print(f\"That took {t}\")\n",
    "\n",
    "# Time a longer calculation  \n",
    "with timer(\"big calculation\") as t:\n",
    "    total = sum(range(10000))  # Add up numbers 0 to 9999\n",
    "    print(f\"Sum of numbers 0 to 9999 = {total}\")\n",
    "\n",
    "print(f\"That took {t}\")"
   ]
  },
  {
   "cell_type": "markdown",
   "id": "a2547042",
   "metadata": {},
   "source": [
    "# Getting Started with Python\n",
    "\n",
    "## Learning Objectives\n",
    "By the end of this lesson, you will be able to:\n",
    "- Run Python code and display output using `print()`\n",
    "- Write comments to document your code\n",
    "- Understand basic Python syntax rules\n",
    "\n",
    "## Core Concepts\n",
    "- **Programming Language**: A way to give instructions to computers using human-readable text\n",
    "- **print() Function**: Displays text or values on the screen\n",
    "- **Comments**: Notes in your code that explain what it does (ignored by Python)\n",
    "- **Syntax**: The rules for writing valid Python code"
   ]
  },
  {
   "cell_type": "markdown",
   "id": "c7417163",
   "metadata": {},
   "source": [
    "# 1. Your First Python Program"
   ]
  },
  {
   "cell_type": "code",
   "execution_count": 1,
   "id": "60dcb4fa",
   "metadata": {},
   "outputs": [
    {
     "name": "stdout",
     "output_type": "stream",
     "text": [
      "Hello, World!\n",
      "Welcome to Python!\n",
      "Let's start coding!\n"
     ]
    }
   ],
   "source": [
    "# The traditional first program\n",
    "print(\"Hello, World!\")\n",
    "\n",
    "# Display different messages\n",
    "print(\"Welcome to Python!\")\n",
    "print(\"Let's start coding!\")"
   ]
  },
  {
   "cell_type": "markdown",
   "id": "e1ce959a",
   "metadata": {},
   "source": [
    "# 2. Comments and Documentation"
   ]
  },
  {
   "cell_type": "code",
   "execution_count": 2,
   "id": "719ef971",
   "metadata": {},
   "outputs": [
    {
     "name": "stdout",
     "output_type": "stream",
     "text": [
      "This code runs\n",
      "Python\n",
      "Comments help others understand your code\n"
     ]
    }
   ],
   "source": [
    "# This is a comment - Python ignores it\n",
    "print(\"This code runs\")\n",
    "\n",
    "# Comments explain what your code does\n",
    "print(\"Python\")  # You can add comments at the end of lines\n",
    "\n",
    "# Multi-line comments\n",
    "# Line 1 of explanation\n",
    "# Line 2 of explanation\n",
    "print(\"Comments help others understand your code\")"
   ]
  },
  {
   "cell_type": "markdown",
   "id": "0149f6a8",
   "metadata": {},
   "source": [
    "# 3. Basic Syntax Rules"
   ]
  },
  {
   "cell_type": "code",
   "execution_count": 3,
   "id": "12093c96",
   "metadata": {},
   "outputs": [
    {
     "name": "stdout",
     "output_type": "stream",
     "text": [
      "Hello\n",
      "Hello\n",
      "42\n",
      "3.14\n",
      "I am 25 years old\n",
      "Pi is approximately 3.14159\n"
     ]
    }
   ],
   "source": [
    "# Text requires quotes\n",
    "print(\"Hello\")      # Double quotes\n",
    "print('Hello')      # Single quotes (same result)\n",
    "\n",
    "# Numbers don't need quotes\n",
    "print(42)           # Integer\n",
    "print(3.14)         # Decimal\n",
    "\n",
    "# Combining text and numbers\n",
    "print(\"I am\", 25, \"years old\")\n",
    "print(\"Pi is approximately\", 3.14159)"
   ]
  },
  {
   "cell_type": "markdown",
   "id": "30b89598",
   "metadata": {},
   "source": [
    "# Practice Exercises\n",
    "\n",
    "Complete the following exercises to practice using `print()` and comments:"
   ]
  },
  {
   "cell_type": "code",
   "execution_count": 4,
   "id": "911250e8",
   "metadata": {},
   "outputs": [
    {
     "name": "stdout",
     "output_type": "stream",
     "text": [
      "My name is [Your Name]\n",
      "I am learning Python\n",
      "My favorite color is blue\n",
      "My favorite number is 7\n",
      "5 + 3 = 8\n",
      "10 - 4 = 6\n"
     ]
    }
   ],
   "source": [
    "# Exercise 1: Personal intro\n",
    "print(\"My name is [Your Name]\")\n",
    "print(\"I am learning Python\")\n",
    "\n",
    "# Exercise 2: Display your favorite things\n",
    "print(\"My favorite color is blue\")\n",
    "print(\"My favorite number is\", 7)\n",
    "\n",
    "# Exercise 3: Simple math display\n",
    "print(\"5 + 3 =\", 8)\n",
    "print(\"10 - 4 =\", 6)"
   ]
  }
 ],
 "metadata": {
  "kernelspec": {
   "display_name": ".venv (3.13.2)",
   "language": "python",
   "name": "python3"
  },
  "language_info": {
   "codemirror_mode": {
    "name": "ipython",
    "version": 3
   },
   "file_extension": ".py",
   "mimetype": "text/x-python",
   "name": "python",
   "nbconvert_exporter": "python",
   "pygments_lexer": "ipython3",
   "version": "3.13.2"
  }
 },
 "nbformat": 4,
 "nbformat_minor": 5
}

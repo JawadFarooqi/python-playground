{
 "cells": [
  {
   "cell_type": "markdown",
   "id": "a2547042",
   "metadata": {},
   "source": [
    "# Getting Started with Python\n",
    "\n",
    "## Learning Objectives\n",
    "By the end of this lesson, you will be able to:\n",
    "- Run Python code and display output using `print()`\n",
    "- Write comments to document your code\n",
    "- Understand basic Python syntax rules\n",
    "\n",
    "## Core Concepts\n",
    "- **Programming Language**: A way to give instructions to computers using human-readable text\n",
    "- **print() Function**: Displays text or values on the screen\n",
    "- **Comments**: Notes in your code that explain what it does (ignored by Python)\n",
    "- **Syntax**: The rules for writing valid Python code"
   ]
  },
  {
   "cell_type": "markdown",
   "id": "c7417163",
   "metadata": {},
   "source": [
    "# 1. Your First Python Program"
   ]
  },
  {
   "cell_type": "code",
   "execution_count": null,
   "id": "60dcb4fa",
   "metadata": {},
   "outputs": [],
   "source": [
    "# The traditional first program\n",
    "print(\"Hello, World!\")\n",
    "\n",
    "# Display different messages\n",
    "print(\"Welcome to Python!\")\n",
    "print(\"Let's start coding!\")"
   ]
  },
  {
   "cell_type": "markdown",
   "id": "e1ce959a",
   "metadata": {},
   "source": [
    "# 2. Comments and Documentation"
   ]
  },
  {
   "cell_type": "code",
   "execution_count": null,
   "id": "719ef971",
   "metadata": {},
   "outputs": [],
   "source": [
    "# This is a comment - Python ignores it\n",
    "print(\"This code runs\")\n",
    "\n",
    "# Comments explain what your code does\n",
    "print(\"Python\")  # You can add comments at the end of lines\n",
    "\n",
    "# Multi-line comments\n",
    "# Line 1 of explanation\n",
    "# Line 2 of explanation\n",
    "print(\"Comments help others understand your code\")"
   ]
  },
  {
   "cell_type": "markdown",
   "id": "0149f6a8",
   "metadata": {},
   "source": [
    "# 3. Basic Syntax Rules"
   ]
  },
  {
   "cell_type": "code",
   "execution_count": null,
   "id": "12093c96",
   "metadata": {},
   "outputs": [],
   "source": [
    "# Text requires quotes\n",
    "print(\"Hello\")      # Double quotes\n",
    "print('Hello')      # Single quotes (same result)\n",
    "\n",
    "# Numbers don't need quotes\n",
    "print(42)           # Integer\n",
    "print(3.14)         # Decimal\n",
    "\n",
    "# Combining text and numbers\n",
    "print(\"I am\", 25, \"years old\")\n",
    "print(\"Pi is approximately\", 3.14159)"
   ]
  },
  {
   "cell_type": "markdown",
   "id": "30b89598",
   "metadata": {},
   "source": [
    "# Practice Exercises\n",
    "\n",
    "Complete the following exercises to practice using `print()` and comments:"
   ]
  },
  {
   "cell_type": "code",
   "execution_count": null,
   "id": "911250e8",
   "metadata": {},
   "outputs": [],
   "source": [
    "# Exercise 1: Personal intro\n",
    "print(\"My name is [Your Name]\")\n",
    "print(\"I am learning Python\")\n",
    "\n",
    "# Exercise 2: Display your favorite things\n",
    "print(\"My favorite color is blue\")\n",
    "print(\"My favorite number is\", 7)\n",
    "\n",
    "# Exercise 3: Simple math display\n",
    "print(\"5 + 3 =\", 8)\n",
    "print(\"10 - 4 =\", 6)"
   ]
  }
 ],
 "metadata": {
  "language_info": {
   "name": "python"
  }
 },
 "nbformat": 4,
 "nbformat_minor": 5
}

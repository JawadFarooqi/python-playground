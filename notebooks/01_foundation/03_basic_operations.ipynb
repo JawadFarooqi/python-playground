{
 "cells": [
  {
   "cell_type": "markdown",
   "id": "3aebeaff",
   "metadata": {},
   "source": [
    "# Basic Operations 🧮\n",
    "\n",
    "## Learning Objectives\n",
    "- Perform arithmetic operations (+, -, *, /, **, %, //)\n",
    "- Compare values (==, !=, <, >, <=, >=)\n",
    "- Use logical operators (and, or, not)\n",
    "- Apply operator precedence rules\n",
    "- Build simple calculators and logic\n",
    "\n",
    "## Core Concepts\n",
    "\n",
    "**Arithmetic:** Math operations on numbers  \n",
    "**Comparison:** Testing relationships between values  \n",
    "**Logical:** Combining True/False conditions  \n",
    "**Precedence:** Order of operations (PEMDAS)"
   ]
  },
  {
   "cell_type": "markdown",
   "id": "2ce45da6",
   "metadata": {},
   "source": [
    "## 1. Arithmetic Operations"
   ]
  },
  {
   "cell_type": "code",
   "execution_count": null,
   "id": "6a106b59",
   "metadata": {},
   "outputs": [],
   "source": [
    "# Basic math operators\n",
    "a, b = 15, 4\n",
    "\n",
    "print(\"Basic Math:\")\n",
    "print(f\"{a} + {b} = {a + b}\")    # Addition\n",
    "print(f\"{a} - {b} = {a - b}\")    # Subtraction  \n",
    "print(f\"{a} * {b} = {a * b}\")    # Multiplication\n",
    "print(f\"{a} / {b} = {a / b}\")    # Division\n",
    "\n",
    "print(\"\\nAdvanced Math:\")\n",
    "print(f\"{a} ** {b} = {a ** b}\")  # Power\n",
    "print(f\"{a} // {b} = {a // b}\")  # Floor division (whole number)\n",
    "print(f\"{a} % {b} = {a % b}\")    # Remainder\n",
    "\n",
    "# Order of operations (PEMDAS)\n",
    "print(\"\\nOrder of Operations:\")\n",
    "print(f\"2 + 3 * 4 = {2 + 3 * 4}\")        # Multiply first\n",
    "print(f\"(2 + 3) * 4 = {(2 + 3) * 4}\")    # Parentheses first\n",
    "print(f\"2 ** 3 + 1 = {2 ** 3 + 1}\")      # Power first"
   ]
  },
  {
   "cell_type": "markdown",
   "id": "206d6594",
   "metadata": {},
   "source": [
    "## 2. Comparison Operators"
   ]
  },
  {
   "cell_type": "code",
   "execution_count": null,
   "id": "49dfa53f",
   "metadata": {},
   "outputs": [],
   "source": [
    "# Comparison operators return True or False\n",
    "x = 5\n",
    "y = 10\n",
    "\n",
    "print(f\"{x} == {y}: {x == y}\")  # Equal to\n",
    "print(f\"{x} != {y}: {x != y}\")  # Not equal to\n",
    "print(f\"{x} < {y}: {x < y}\")    # Less than\n",
    "print(f\"{x} > {y}: {x > y}\")    # Greater than\n",
    "print(f\"{x} <= {y}: {x <= y}\")  # Less than or equal\n",
    "print(f\"{x} >= {y}: {x >= y}\")  # Greater than or equal\n",
    "print()\n",
    "\n",
    "# Comparing strings\n",
    "name1 = \"Alice\"\n",
    "name2 = \"Bob\"\n",
    "print(f\"'{name1}' == '{name2}': {name1 == name2}\")\n",
    "print(f\"'{name1}' < '{name2}': {name1 < name2}\")  # Alphabetical order"
   ]
  },
  {
   "cell_type": "markdown",
   "id": "492d2756",
   "metadata": {},
   "source": [
    "## 3. Logical Operators"
   ]
  },
  {
   "cell_type": "code",
   "execution_count": null,
   "id": "04fa6787",
   "metadata": {},
   "outputs": [],
   "source": [
    "# Logical operators combine True/False values\n",
    "is_sunny = True\n",
    "is_warm = False\n",
    "has_umbrella = True\n",
    "\n",
    "print(\"Logical AND (both must be True):\")\n",
    "print(f\"Sunny AND warm: {is_sunny and is_warm}\")\n",
    "print(f\"Sunny AND has umbrella: {is_sunny and has_umbrella}\")\n",
    "\n",
    "print(\"\\nLogical OR (at least one must be True):\")\n",
    "print(f\"Sunny OR warm: {is_sunny or is_warm}\")\n",
    "print(f\"Warm OR has umbrella: {is_warm or has_umbrella}\")\n",
    "\n",
    "print(\"\\nLogical NOT (flips True/False):\")\n",
    "print(f\"NOT sunny: {not is_sunny}\")\n",
    "print(f\"NOT warm: {not is_warm}\")\n",
    "\n",
    "# Real-world example\n",
    "age = 20\n",
    "has_id = True\n",
    "can_enter = age >= 18 and has_id\n",
    "print(f\"\\nCan enter (18+ with ID): {can_enter}\")"
   ]
  },
  {
   "cell_type": "code",
   "execution_count": null,
   "id": "0b4e1df2",
   "metadata": {},
   "outputs": [],
   "source": [
    "# Exercise 1: Temperature Converter\n",
    "celsius = 25\n",
    "# Formula: F = (C * 9/5) + 32\n",
    "fahrenheit = (celsius * 9/5) + 32\n",
    "print(f\"{celsius}°C = {fahrenheit}°F\")"
   ]
  },
  {
   "cell_type": "markdown",
   "id": "facee102",
   "metadata": {},
   "source": [
    "# Practice Exercises\n",
    "\n",
    "Complete the following exercises to practice arithmetic, comparison, and logical operations:"
   ]
  },
  {
   "cell_type": "code",
   "execution_count": null,
   "id": "20e64183",
   "metadata": {},
   "outputs": [],
   "source": [
    "# Exercise 2: Circle Calculator\n",
    "radius = 7\n",
    "pi = 3.14159\n",
    "area = pi * radius ** 2\n",
    "circumference = 2 * pi * radius\n",
    "print(f\"Circle with radius {radius}:\")\n",
    "print(f\"Area: {area}\")\n",
    "print(f\"Circumference: {circumference:.2f}\")"
   ]
  },
  {
   "cell_type": "code",
   "execution_count": null,
   "id": "ee97e63c",
   "metadata": {},
   "outputs": [],
   "source": [
    "# Exercise 3: Voting Eligibility\n",
    "age = 20\n",
    "is_citizen = True\n",
    "is_registered = False\n",
    "can_vote = age >= 18 and is_citizen and is_registered\n",
    "print(f\"Age: {age}, Citizen: {is_citizen}, Registered: {is_registered}\")\n",
    "print(f\"Can vote: {can_vote}\")"
   ]
  }
 ],
 "metadata": {
  "language_info": {
   "name": "python"
  }
 },
 "nbformat": 4,
 "nbformat_minor": 5
}

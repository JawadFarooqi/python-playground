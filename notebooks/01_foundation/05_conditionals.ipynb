{
 "cells": [
  {
   "cell_type": "markdown",
   "id": "0deb3221",
   "metadata": {},
   "source": [
    "# Conditionals (if statements)\n",
    "\n",
    "## Learning Objectives\n",
    "By the end of this lesson, you will be able to:\n",
    "- Use `if` statements to make decisions in your code\n",
    "- Combine `if` and `else` for alternative actions\n",
    "- Use `elif` for multiple conditions\n",
    "- Combine conditions with `and`, `or`, and `not`\n",
    "\n",
    "## Core Concepts\n",
    "- **Conditional**: Code that runs only when a certain condition is true\n",
    "- **if statement**: Executes code block if condition is true\n",
    "- **else statement**: Executes code block if condition is false\n",
    "- **elif statement**: Checks additional conditions\n",
    "- **Boolean operators**: `and`, `or`, `not` for combining conditions"
   ]
  },
  {
   "cell_type": "code",
   "execution_count": null,
   "id": "327f34b3",
   "metadata": {},
   "outputs": [],
   "source": [
    "# 1. Basic if Statements"
   ]
  },
  {
   "cell_type": "code",
   "execution_count": null,
   "id": "e32e08bb",
   "metadata": {},
   "outputs": [],
   "source": [
    "# Simple if statement\n",
    "age = 20\n",
    "if age >= 18:\n",
    "    print(\"You are an adult!\")\n",
    "\n",
    "# if with else\n",
    "score = 85\n",
    "if score >= 60:\n",
    "    print(\"You passed!\")\n",
    "else:\n",
    "    print(\"You failed.\")\n",
    "\n",
    "# Multiple if statements\n",
    "temperature = 75\n",
    "if temperature > 80:\n",
    "    print(\"It's hot!\")\n",
    "if temperature < 60:\n",
    "    print(\"It's cold!\")\n",
    "if 60 <= temperature <= 80:\n",
    "    print(\"Nice weather!\")"
   ]
  },
  {
   "cell_type": "markdown",
   "id": "33eb1e2e",
   "metadata": {},
   "source": [
    "# 2. elif (Multiple Conditions)"
   ]
  },
  {
   "cell_type": "code",
   "execution_count": null,
   "id": "6cb81a58",
   "metadata": {},
   "outputs": [],
   "source": [
    "# Grade classification\n",
    "score = 85\n",
    "if score >= 90:\n",
    "    print(\"Grade: A\")\n",
    "elif score >= 80:\n",
    "    print(\"Grade: B\")\n",
    "elif score >= 70:\n",
    "    print(\"Grade: C\")\n",
    "elif score >= 60:\n",
    "    print(\"Grade: D\")\n",
    "else:\n",
    "    print(\"Grade: F\")\n",
    "\n",
    "# Time of day\n",
    "hour = 14\n",
    "if hour < 12:\n",
    "    print(\"Good morning!\")\n",
    "elif hour < 17:\n",
    "    print(\"Good afternoon!\")\n",
    "else:\n",
    "    print(\"Good evening!\")"
   ]
  },
  {
   "cell_type": "markdown",
   "id": "39e7c6b2",
   "metadata": {},
   "source": [
    "# 3. Logical Operators (and, or, not)"
   ]
  },
  {
   "cell_type": "code",
   "execution_count": null,
   "id": "c57d2c32",
   "metadata": {},
   "outputs": [],
   "source": [
    "# Using 'and' - both conditions must be true\n",
    "age = 20\n",
    "has_license = True\n",
    "if age >= 18 and has_license:\n",
    "    print(\"Can drive!\")\n",
    "\n",
    "# Using 'or' - at least one condition must be true\n",
    "day = \"Saturday\"\n",
    "if day == \"Saturday\" or day == \"Sunday\":\n",
    "    print(\"It's the weekend!\")\n",
    "\n",
    "# Using 'not' - reverses the condition\n",
    "raining = False\n",
    "if not raining:\n",
    "    print(\"No umbrella needed!\")\n",
    "\n",
    "# Complex conditions\n",
    "temperature = 25\n",
    "sunny = True\n",
    "if temperature > 20 and sunny and not raining:\n",
    "    print(\"Perfect day for a picnic!\")"
   ]
  },
  {
   "cell_type": "code",
   "execution_count": null,
   "id": "bce9be61",
   "metadata": {},
   "outputs": [],
   "source": [
    "# Practice Exercises\n",
    "\n",
    "Complete the following exercises to practice conditional statements:"
   ]
  },
  {
   "cell_type": "code",
   "execution_count": null,
   "id": "a237ae27",
   "metadata": {},
   "outputs": [],
   "source": [
    "# Exercise 1: Age checker\n",
    "age = 16\n",
    "if age >= 18:\n",
    "    print(\"Adult\")\n",
    "elif age >= 13:\n",
    "    print(\"Teenager\")\n",
    "else:\n",
    "    print(\"Child\")\n",
    "\n",
    "# Exercise 2: Password strength\n",
    "password = \"hello123\"\n",
    "length_check = len(password) >= 8\n",
    "has_number = any(char.isdigit() for char in password)\n",
    "if length_check and has_number:\n",
    "    print(\"Strong password\")\n",
    "else:\n",
    "    print(\"Weak password\")\n",
    "\n",
    "# Exercise 3: Season detector\n",
    "month = 7\n",
    "if month in [12, 1, 2]:\n",
    "    print(\"Winter\")\n",
    "elif month in [3, 4, 5]:\n",
    "    print(\"Spring\")\n",
    "elif month in [6, 7, 8]:\n",
    "    print(\"Summer\")\n",
    "else:\n",
    "    print(\"Fall\")"
   ]
  }
 ],
 "metadata": {
  "language_info": {
   "name": "python"
  }
 },
 "nbformat": 4,
 "nbformat_minor": 5
}

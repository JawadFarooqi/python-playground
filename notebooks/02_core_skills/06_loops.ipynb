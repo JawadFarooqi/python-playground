{
 "cells": [
  {
   "cell_type": "markdown",
   "id": "3d4d9160",
   "metadata": {},
   "source": [
    "# Loops\n",
    "\n",
    "## Learning Objectives\n",
    "By the end of this lesson, you will be able to:\n",
    "- Use `for` loops to repeat code a specific number of times\n",
    "- Use `while` loops to repeat code while a condition is true\n",
    "- Use `range()` to generate sequences of numbers\n",
    "- Control loop execution with `break` and `continue`\n",
    "- Apply loops to solve practical problems\n",
    "\n",
    "## Core Concepts\n",
    "- **Loop**: Code that repeats multiple times\n",
    "- **for loop**: Repeats for each item in a sequence\n",
    "- **while loop**: Repeats while a condition remains true\n",
    "- **range()**: Creates a sequence of numbers\n",
    "- **break**: Exits a loop early\n",
    "- **continue**: Skips to the next iteration"
   ]
  },
  {
   "cell_type": "markdown",
   "id": "9bdce16c",
   "metadata": {},
   "source": [
    "# 1. for Loops"
   ]
  },
  {
   "cell_type": "code",
   "execution_count": null,
   "id": "42d32890",
   "metadata": {},
   "outputs": [],
   "source": [
    "# Basic for loop with range\n",
    "for i in range(5):\n",
    "    print(f\"Count: {i}\")\n",
    "\n",
    "# Loop through a list\n",
    "fruits = [\"apple\", \"banana\", \"orange\"]\n",
    "for fruit in fruits:\n",
    "    print(f\"I like {fruit}\")\n",
    "\n",
    "# Loop with range(start, stop, step)\n",
    "for num in range(2, 11, 2):\n",
    "    print(f\"Even number: {num}\")\n",
    "\n",
    "# Practical example: calculate sum\n",
    "numbers = [1, 2, 3, 4, 5]\n",
    "total = 0\n",
    "for num in numbers:\n",
    "    total += num\n",
    "print(f\"Sum: {total}\")"
   ]
  },
  {
   "cell_type": "markdown",
   "id": "351e72ca",
   "metadata": {},
   "source": [
    "# 2. while Loops"
   ]
  },
  {
   "cell_type": "code",
   "execution_count": null,
   "id": "966dac2a",
   "metadata": {},
   "outputs": [],
   "source": [
    "# Basic while loop\n",
    "count = 0\n",
    "while count < 5:\n",
    "    print(f\"Count: {count}\")\n",
    "    count += 1\n",
    "\n",
    "# While loop with user input simulation\n",
    "number = 1\n",
    "while number != 0:\n",
    "    print(f\"Number: {number}\")\n",
    "    number -= 1\n",
    "print(\"Done!\")\n",
    "\n",
    "# Practical example: find first power of 2 greater than 100\n",
    "power = 1\n",
    "while 2 ** power <= 100:\n",
    "    power += 1\n",
    "print(f\"2^{power} = {2**power} is the first power of 2 > 100\")"
   ]
  },
  {
   "cell_type": "markdown",
   "id": "89a3781a",
   "metadata": {},
   "source": [
    "# 3. Loop Control (break and continue)"
   ]
  },
  {
   "cell_type": "code",
   "execution_count": null,
   "id": "a203c975",
   "metadata": {},
   "outputs": [],
   "source": [
    "# Using break to exit early\n",
    "for i in range(10):\n",
    "    if i == 5:\n",
    "        break\n",
    "    print(i)\n",
    "print(\"Loop ended early\")\n",
    "\n",
    "# Using continue to skip iterations\n",
    "for i in range(10):\n",
    "    if i % 2 == 0:  # Skip even numbers\n",
    "        continue\n",
    "    print(f\"Odd number: {i}\")\n",
    "\n",
    "# Finding first item in a list\n",
    "names = [\"Alice\", \"Bob\", \"Charlie\", \"David\"]\n",
    "target = \"Charlie\"\n",
    "for name in names:\n",
    "    if name == target:\n",
    "        print(f\"Found {target}!\")\n",
    "        break\n",
    "else:\n",
    "    print(f\"{target} not found\")"
   ]
  },
  {
   "cell_type": "markdown",
   "id": "c9fa702b",
   "metadata": {},
   "source": [
    "# Practice Exercises\n",
    "\n",
    "Complete the following exercises to practice loops:"
   ]
  },
  {
   "cell_type": "code",
   "execution_count": null,
   "id": "e1b1b9af",
   "metadata": {},
   "outputs": [],
   "source": [
    "# Exercise 1: Multiplication table\n",
    "number = 7\n",
    "for i in range(1, 11):\n",
    "    print(f\"{number} x {i} = {number * i}\")\n",
    "\n",
    "# Exercise 2: Count down\n",
    "start = 10\n",
    "while start > 0:\n",
    "    print(start)\n",
    "    start -= 1\n",
    "print(\"Blast off!\")\n",
    "\n",
    "# Exercise 3: Find numbers divisible by 3\n",
    "for num in range(1, 21):\n",
    "    if num % 3 != 0:\n",
    "        continue\n",
    "    print(f\"{num} is divisible by 3\")"
   ]
  }
 ],
 "metadata": {
  "language_info": {
   "name": "python"
  }
 },
 "nbformat": 4,
 "nbformat_minor": 5
}

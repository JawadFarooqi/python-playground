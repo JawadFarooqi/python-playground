{
 "cells": [
  {
   "cell_type": "markdown",
   "id": "56544b15",
   "metadata": {},
   "source": [
    "# Lists and Indexing\n",
    "\n",
    "## Learning Objectives\n",
    "By the end of this lesson, you will be able to:\n",
    "- Create and modify lists in Python\n",
    "- Access list elements using indexing and slicing\n",
    "- Use list methods to add, remove, and modify elements\n",
    "- Iterate through lists and find specific items\n",
    "- Apply lists to solve practical problems\n",
    "\n",
    "## Core Concepts\n",
    "- **List**: Ordered collection of items that can be changed\n",
    "- **Index**: Position of an item in a list (starts at 0)\n",
    "- **Slicing**: Getting a portion of a list using [start:end]\n",
    "- **List Methods**: Built-in functions to manipulate lists\n",
    "- **Negative Indexing**: Counting from the end using negative numbers"
   ]
  },
  {
   "cell_type": "markdown",
   "id": "77c2e45e",
   "metadata": {},
   "source": [
    "# 1. Creating and Accessing Lists"
   ]
  },
  {
   "cell_type": "code",
   "execution_count": null,
   "id": "b3fbd0ee",
   "metadata": {},
   "outputs": [],
   "source": [
    "# Creating lists\n",
    "fruits = [\"apple\", \"banana\", \"orange\", \"grape\"]\n",
    "numbers = [1, 2, 3, 4, 5]\n",
    "mixed = [\"hello\", 42, True, 3.14]\n",
    "\n",
    "# Accessing elements by index (starts at 0)\n",
    "print(fruits[0])    # First element: apple\n",
    "print(fruits[1])    # Second element: banana\n",
    "print(fruits[-1])   # Last element: grape\n",
    "print(fruits[-2])   # Second to last: orange\n",
    "\n",
    "# Getting list length\n",
    "print(f\"List has {len(fruits)} items\")\n",
    "\n",
    "# Checking if item exists\n",
    "if \"apple\" in fruits:\n",
    "    print(\"Apple is in the list\")"
   ]
  },
  {
   "cell_type": "markdown",
   "id": "0b8e51d5",
   "metadata": {},
   "source": [
    "# 2. List Slicing"
   ]
  },
  {
   "cell_type": "code",
   "execution_count": null,
   "id": "35907a7e",
   "metadata": {},
   "outputs": [],
   "source": [
    "# List slicing [start:end:step]\n",
    "numbers = [0, 1, 2, 3, 4, 5, 6, 7, 8, 9]\n",
    "\n",
    "print(numbers[2:5])     # Elements 2-4: [2, 3, 4]\n",
    "print(numbers[:3])      # First 3: [0, 1, 2]\n",
    "print(numbers[7:])      # From index 7: [7, 8, 9]\n",
    "print(numbers[-3:])     # Last 3: [7, 8, 9]\n",
    "print(numbers[::2])     # Every 2nd: [0, 2, 4, 6, 8]\n",
    "print(numbers[::-1])    # Reverse: [9, 8, 7, 6, 5, 4, 3, 2, 1, 0]\n",
    "\n",
    "# Practical slicing\n",
    "text = \"programming\"\n",
    "letters = list(text)\n",
    "print(letters[0:4])     # First 4 letters"
   ]
  },
  {
   "cell_type": "markdown",
   "id": "642f2da2",
   "metadata": {},
   "source": [
    "# 3. List Methods"
   ]
  },
  {
   "cell_type": "code",
   "execution_count": null,
   "id": "c5878599",
   "metadata": {},
   "outputs": [],
   "source": [
    "# Modifying lists\n",
    "shopping = [\"milk\", \"bread\"]\n",
    "\n",
    "# Adding items\n",
    "shopping.append(\"eggs\")              # Add to end\n",
    "shopping.insert(1, \"butter\")         # Insert at position 1\n",
    "shopping.extend([\"cheese\", \"apples\"]) # Add multiple items\n",
    "print(shopping)\n",
    "\n",
    "# Removing items\n",
    "shopping.remove(\"bread\")    # Remove first occurrence\n",
    "item = shopping.pop()       # Remove and return last item\n",
    "item2 = shopping.pop(0)     # Remove and return item at index 0\n",
    "print(f\"Removed: {item}, {item2}\")\n",
    "print(shopping)\n",
    "\n",
    "# Finding items\n",
    "if \"milk\" in shopping:\n",
    "    index = shopping.index(\"milk\")\n",
    "    print(f\"Milk is at index {index}\")\n",
    "\n",
    "# Sorting and reversing\n",
    "numbers = [3, 1, 4, 1, 5]\n",
    "numbers.sort()              # Sort in place\n",
    "print(f\"Sorted: {numbers}\")\n",
    "numbers.reverse()           # Reverse in place\n",
    "print(f\"Reversed: {numbers}\")"
   ]
  },
  {
   "cell_type": "markdown",
   "id": "00689e0f",
   "metadata": {},
   "source": [
    "# Practice Exercises\n",
    "\n",
    "Complete the following exercises to practice lists and indexing:"
   ]
  },
  {
   "cell_type": "code",
   "execution_count": null,
   "id": "6282e8a3",
   "metadata": {},
   "outputs": [],
   "source": [
    "# Exercise 1: Create and modify a playlist\n",
    "playlist = [\"Song A\", \"Song B\", \"Song C\"]\n",
    "playlist.append(\"Song D\")\n",
    "playlist.insert(1, \"Song X\")\n",
    "print(f\"Playlist: {playlist}\")\n",
    "print(f\"Now playing: {playlist[0]}\")\n",
    "\n",
    "# Exercise 2: Process a list of scores\n",
    "scores = [85, 92, 78, 96, 81]\n",
    "print(f\"Highest score: {max(scores)}\")\n",
    "print(f\"Lowest score: {min(scores)}\")\n",
    "print(f\"Average: {sum(scores) / len(scores):.1f}\")\n",
    "\n",
    "# Exercise 3: Extract information from a list\n",
    "students = [\"Alice\", \"Bob\", \"Charlie\", \"Diana\", \"Eve\"]\n",
    "print(f\"First student: {students[0]}\")\n",
    "print(f\"Last student: {students[-1]}\")\n",
    "print(f\"Middle three: {students[1:4]}\")\n",
    "print(f\"Every other student: {students[::2]}\")"
   ]
  }
 ],
 "metadata": {
  "language_info": {
   "name": "python"
  }
 },
 "nbformat": 4,
 "nbformat_minor": 5
}

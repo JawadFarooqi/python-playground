{
 "cells": [
  {
   "cell_type": "markdown",
   "id": "b0aa7858",
   "metadata": {},
   "source": [
    "# Strings Deep Dive\n",
    "\n",
    "## Learning Objectives\n",
    "By the end of this lesson, you will be able to:\n",
    "- Use string methods to manipulate and format text\n",
    "- Apply string indexing and slicing techniques\n",
    "- Format strings using f-strings and .format()\n",
    "- Validate and clean user input\n",
    "- Solve text processing problems\n",
    "\n",
    "## Core Concepts\n",
    "- **String Methods**: Built-in functions to manipulate strings\n",
    "- **String Formatting**: Different ways to combine text and variables\n",
    "- **String Slicing**: Extracting parts of strings\n",
    "- **Escape Characters**: Special characters like \\n, \\t\n",
    "- **String Immutability**: Strings cannot be changed, only replaced"
   ]
  },
  {
   "cell_type": "markdown",
   "id": "f6f96d55",
   "metadata": {},
   "source": [
    "# 1. String Methods"
   ]
  },
  {
   "cell_type": "code",
   "execution_count": null,
   "id": "03d7d397",
   "metadata": {},
   "outputs": [],
   "source": [
    "# Case conversion\n",
    "text = \"Hello World\"\n",
    "print(text.lower())      # hello world\n",
    "print(text.upper())      # HELLO WORLD  \n",
    "print(text.title())      # Hello World\n",
    "print(text.capitalize()) # Hello world\n",
    "\n",
    "# Checking string properties\n",
    "email = \"user@example.com\"\n",
    "print(email.startswith(\"user\"))    # True\n",
    "print(email.endswith(\".com\"))      # True\n",
    "print(\"123\".isdigit())             # True\n",
    "print(\"abc\".isalpha())             # True\n",
    "print(\"abc123\".isalnum())          # True\n",
    "\n",
    "# Finding and replacing\n",
    "sentence = \"Python is great. Python is fun.\"\n",
    "print(sentence.find(\"Python\"))        # First occurrence: 0\n",
    "print(sentence.count(\"Python\"))       # Count: 2\n",
    "print(sentence.replace(\"Python\", \"Programming\"))\n",
    "\n",
    "# Splitting and joining\n",
    "words = \"apple,banana,orange\"\n",
    "fruit_list = words.split(\",\")          # Split into list\n",
    "print(fruit_list)\n",
    "rejoined = \" | \".join(fruit_list)      # Join with separator\n",
    "print(rejoined)"
   ]
  },
  {
   "cell_type": "markdown",
   "id": "ef1c5320",
   "metadata": {},
   "source": [
    "# 2. String Formatting"
   ]
  },
  {
   "cell_type": "code",
   "execution_count": null,
   "id": "ad4fe6f1",
   "metadata": {},
   "outputs": [],
   "source": [
    "# F-strings (recommended)\n",
    "name = \"Alice\"\n",
    "age = 25\n",
    "score = 87.5\n",
    "print(f\"Hello, {name}! You are {age} years old.\")\n",
    "print(f\"Your score is {score:.1f}%\")\n",
    "\n",
    "# Format with calculations\n",
    "x, y = 10, 3\n",
    "print(f\"{x} / {y} = {x/y:.2f}\")\n",
    "\n",
    "# .format() method\n",
    "template = \"Name: {}, Age: {}, City: {}\"\n",
    "print(template.format(\"Bob\", 30, \"New York\"))\n",
    "\n",
    "# Named placeholders\n",
    "info = \"Hello {name}, welcome to {city}!\"\n",
    "print(info.format(name=\"Charlie\", city=\"Paris\"))\n",
    "\n",
    "# Padding and alignment\n",
    "print(f\"{'Left':<10}|\")      # Left align\n",
    "print(f\"{'Center':^10}|\")    # Center align  \n",
    "print(f\"{'Right':>10}|\")     # Right align\n",
    "print(f\"{42:05d}\")           # Zero padding: 00042"
   ]
  },
  {
   "cell_type": "markdown",
   "id": "f4439547",
   "metadata": {},
   "source": [
    "# 3. String Slicing and Special Characters"
   ]
  },
  {
   "cell_type": "code",
   "execution_count": null,
   "id": "5eb00f66",
   "metadata": {},
   "outputs": [],
   "source": [
    "# String slicing\n",
    "text = \"programming\"\n",
    "print(text[0])          # First character: p\n",
    "print(text[-1])         # Last character: g\n",
    "print(text[0:4])        # First 4: prog\n",
    "print(text[4:])         # From 4th: ramming\n",
    "print(text[::-1])       # Reverse: gnimmargorprogramming\n",
    "\n",
    "# Escape characters\n",
    "print(\"Line 1\\nLine 2\")           # \\n = newline\n",
    "print(\"Name:\\tJohn\")              # \\t = tab\n",
    "print(\"She said \\\"Hello!\\\"\")      # \\\" = quote\n",
    "print(\"File path: C:\\\\Users\\\\\")   # \\\\ = backslash\n",
    "\n",
    "# Raw strings (no escape processing)\n",
    "path = r\"C:\\Users\\Documents\\file.txt\"\n",
    "print(path)\n",
    "\n",
    "# Multi-line strings\n",
    "poem = \"\"\"Roses are red,\n",
    "Violets are blue,\n",
    "Python is awesome,\n",
    "And so are you!\"\"\"\n",
    "print(poem)"
   ]
  },
  {
   "cell_type": "markdown",
   "id": "82d42dc4",
   "metadata": {},
   "source": [
    "# Practice Exercises\n",
    "\n",
    "Complete the following exercises to practice string manipulation:"
   ]
  },
  {
   "cell_type": "code",
   "execution_count": null,
   "id": "08d6dbf1",
   "metadata": {},
   "outputs": [],
   "source": [
    "# Exercise 1: Email validator\n",
    "email = \"user@example.com\"\n",
    "is_valid = \"@\" in email and email.endswith(\".com\") and len(email) > 5\n",
    "print(f\"Email {email} is valid: {is_valid}\")\n",
    "\n",
    "# Exercise 2: Name formatter\n",
    "first_name = \"john\"\n",
    "last_name = \"SMITH\"\n",
    "formatted = f\"{first_name.capitalize()} {last_name.title()}\"\n",
    "print(f\"Formatted name: {formatted}\")\n",
    "\n",
    "# Exercise 3: Word counter\n",
    "sentence = \"Python is a powerful programming language\"\n",
    "words = sentence.split()\n",
    "word_count = len(words)\n",
    "char_count = len(sentence.replace(\" \", \"\"))\n",
    "print(f\"Words: {word_count}, Characters: {char_count}\")\n",
    "\n",
    "# Exercise 4: Create initials\n",
    "full_name = \"Alice Marie Johnson\"\n",
    "name_parts = full_name.split()\n",
    "initials = \".\".join([name[0] for name in name_parts])\n",
    "print(f\"Initials: {initials}\")"
   ]
  }
 ],
 "metadata": {
  "language_info": {
   "name": "python"
  }
 },
 "nbformat": 4,
 "nbformat_minor": 5
}

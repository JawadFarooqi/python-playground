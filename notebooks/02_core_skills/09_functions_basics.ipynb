{
 "cells": [
  {
   "cell_type": "markdown",
   "id": "90d0b22d",
   "metadata": {},
   "source": [
    "# Functions Basics\n",
    "\n",
    "## Learning Objectives\n",
    "By the end of this lesson, you will be able to:\n",
    "- Define and call functions in Python\n",
    "- Use parameters and arguments effectively\n",
    "- Return values from functions\n",
    "- Understand function scope and local variables\n",
    "- Write reusable code using functions\n",
    "\n",
    "## Core Concepts\n",
    "- **Function**: Reusable block of code that performs a specific task\n",
    "- **Parameters**: Variables in function definition\n",
    "- **Arguments**: Values passed to function when called\n",
    "- **Return Statement**: Sends a value back from function\n",
    "- **Scope**: Where variables can be accessed in your program"
   ]
  },
  {
   "cell_type": "markdown",
   "id": "e5871f90",
   "metadata": {},
   "source": [
    "# 1. Creating and Calling Functions"
   ]
  },
  {
   "cell_type": "code",
   "execution_count": null,
   "id": "2a0fdf3d",
   "metadata": {},
   "outputs": [],
   "source": [
    "# Basic function definition and call\n",
    "def greet():\n",
    "    print(\"Hello, World!\")\n",
    "\n",
    "greet()  # Call the function\n",
    "\n",
    "# Function with parameters\n",
    "def greet_person(name):\n",
    "    print(f\"Hello, {name}!\")\n",
    "\n",
    "greet_person(\"Alice\")\n",
    "greet_person(\"Bob\")\n",
    "\n",
    "# Function with multiple parameters\n",
    "def add_numbers(x, y):\n",
    "    result = x + y\n",
    "    print(f\"{x} + {y} = {result}\")\n",
    "\n",
    "add_numbers(5, 3)\n",
    "add_numbers(10, 20)"
   ]
  },
  {
   "cell_type": "markdown",
   "id": "3e76d408",
   "metadata": {},
   "source": [
    "# 2. Return Values"
   ]
  },
  {
   "cell_type": "code",
   "execution_count": null,
   "id": "d1b3e6ba",
   "metadata": {},
   "outputs": [],
   "source": [
    "# Functions that return values\n",
    "def multiply(x, y):\n",
    "    return x * y\n",
    "\n",
    "result = multiply(4, 5)\n",
    "print(f\"Result: {result}\")\n",
    "\n",
    "# Function with conditional return\n",
    "def get_grade(score):\n",
    "    if score >= 90:\n",
    "        return \"A\"\n",
    "    elif score >= 80:\n",
    "        return \"B\"\n",
    "    elif score >= 70:\n",
    "        return \"C\"\n",
    "    else:\n",
    "        return \"F\"\n",
    "\n",
    "grade = get_grade(85)\n",
    "print(f\"Grade: {grade}\")\n",
    "\n",
    "# Return multiple values\n",
    "def calculate_stats(numbers):\n",
    "    return min(numbers), max(numbers), sum(numbers) / len(numbers)\n",
    "\n",
    "min_val, max_val, avg = calculate_stats([1, 2, 3, 4, 5])\n",
    "print(f\"Min: {min_val}, Max: {max_val}, Average: {avg}\")"
   ]
  },
  {
   "cell_type": "markdown",
   "id": "c19bae57",
   "metadata": {},
   "source": [
    "# 3. Default Parameters"
   ]
  },
  {
   "cell_type": "code",
   "execution_count": null,
   "id": "faffb185",
   "metadata": {},
   "outputs": [],
   "source": [
    "# Functions with default values\n",
    "def power(base, exponent=2):\n",
    "    return base ** exponent\n",
    "\n",
    "print(power(5))      # Uses default: 5^2 = 25\n",
    "print(power(5, 3))   # Custom: 5^3 = 125\n",
    "\n",
    "# Multiple default parameters\n",
    "def create_profile(name, age=18, city=\"Unknown\"):\n",
    "    return f\"{name}, {age} years old from {city}\"\n",
    "\n",
    "print(create_profile(\"Alice\"))\n",
    "print(create_profile(\"Bob\", 25))\n",
    "print(create_profile(\"Charlie\", 30, \"New York\"))"
   ]
  },
  {
   "cell_type": "markdown",
   "id": "ffad63b4",
   "metadata": {},
   "source": [
    "# 4. Variable Scope"
   ]
  },
  {
   "cell_type": "code",
   "execution_count": null,
   "id": "05c3a2e1",
   "metadata": {},
   "outputs": [],
   "source": [
    "# Global vs Local variables\n",
    "global_var = \"I'm accessible everywhere\"\n",
    "\n",
    "def scope_demo():\n",
    "    local_var = \"I only exist inside this function\"\n",
    "    print(f\"Inside function: {global_var}\")\n",
    "    print(f\"Inside function: {local_var}\")\n",
    "\n",
    "scope_demo()\n",
    "print(f\"Outside function: {global_var}\")\n",
    "# print(local_var)  # This would cause an error\n",
    "\n",
    "# Function parameters are local\n",
    "def modify_demo(x):\n",
    "    x = x + 10  # This doesn't change the original variable\n",
    "    return x\n",
    "\n",
    "original = 5\n",
    "result = modify_demo(original)\n",
    "print(f\"Original: {original}, Result: {result}\")"
   ]
  },
  {
   "cell_type": "markdown",
   "id": "09779cfa",
   "metadata": {},
   "source": [
    "# Practice Exercises\n",
    "\n",
    "Complete the following exercises to practice functions:"
   ]
  },
  {
   "cell_type": "code",
   "execution_count": null,
   "id": "096fdb32",
   "metadata": {},
   "outputs": [],
   "source": [
    "# Exercise 1: Rectangle calculator\n",
    "def calculate_area(length, width):\n",
    "    return length * width\n",
    "\n",
    "def calculate_perimeter(length, width):\n",
    "    return 2 * (length + width)\n",
    "\n",
    "# Test the functions\n",
    "area = calculate_area(10, 5)\n",
    "perimeter = calculate_perimeter(10, 5)\n",
    "print(f\"Area: {area}, Perimeter: {perimeter}\")\n",
    "\n",
    "# Exercise 2: Temperature converter\n",
    "def celsius_to_fahrenheit(celsius):\n",
    "    return (celsius * 9/5) + 32\n",
    "\n",
    "def fahrenheit_to_celsius(fahrenheit):\n",
    "    return (fahrenheit - 32) * 5/9\n",
    "\n",
    "temp_c = 25\n",
    "temp_f = celsius_to_fahrenheit(temp_c)\n",
    "print(f\"{temp_c}°C = {temp_f}°F\")\n",
    "\n",
    "# Exercise 3: Number validator\n",
    "def is_even(number):\n",
    "    return number % 2 == 0\n",
    "\n",
    "def is_positive(number):\n",
    "    return number > 0\n",
    "\n",
    "def validate_number(num):\n",
    "    even = is_even(num)\n",
    "    positive = is_positive(num)\n",
    "    return f\"Number {num}: Even={even}, Positive={positive}\"\n",
    "\n",
    "print(validate_number(8))\n",
    "print(validate_number(-3))\n",
    "\n",
    "# Exercise 4: String formatter\n",
    "def format_name(first, last, title=\"Mr.\"):\n",
    "    return f\"{title} {first.title()} {last.title()}\"\n",
    "\n",
    "print(format_name(\"john\", \"doe\"))\n",
    "print(format_name(\"jane\", \"smith\", \"Dr.\"))"
   ]
  }
 ],
 "metadata": {
  "language_info": {
   "name": "python"
  }
 },
 "nbformat": 4,
 "nbformat_minor": 5
}

{
 "cells": [
  {
   "cell_type": "markdown",
   "id": "f1d466d4",
   "metadata": {},
   "source": [
    "# Dictionaries\n",
    "\n",
    "## Learning Objectives\n",
    "By the end of this lesson, you will be able to:\n",
    "- Create and manipulate dictionaries\n",
    "- Access, add, and remove dictionary items\n",
    "- Iterate through dictionaries using loops\n",
    "- Use dictionaries to solve real-world problems\n",
    "- Understand when to use dictionaries vs lists\n",
    "\n",
    "## Core Concepts\n",
    "- **Dictionary**: Collection of key-value pairs\n",
    "- **Key**: Unique identifier to access values\n",
    "- **Value**: Data associated with a key\n",
    "- **Methods**: Built-in functions like .get(), .keys(), .values()\n",
    "- **Immutable Keys**: Keys must be unchangeable (strings, numbers, tuples)"
   ]
  },
  {
   "cell_type": "markdown",
   "id": "943ea81d",
   "metadata": {},
   "source": [
    "# 1. Creating and Accessing Dictionaries"
   ]
  },
  {
   "cell_type": "code",
   "execution_count": null,
   "id": "6ce4cb25",
   "metadata": {},
   "outputs": [],
   "source": [
    "# Creating dictionaries\n",
    "person = {\n",
    "    \"name\": \"Alice\",\n",
    "    \"age\": 30,\n",
    "    \"city\": \"New York\"\n",
    "}\n",
    "\n",
    "# Empty dictionary\n",
    "empty_dict = {}\n",
    "also_empty = dict()\n",
    "\n",
    "# Accessing values\n",
    "print(person[\"name\"])           # Direct access\n",
    "print(person.get(\"age\"))        # Safe access (returns None if key doesn't exist)\n",
    "print(person.get(\"country\", \"Unknown\"))  # Default value\n",
    "\n",
    "# Check if key exists\n",
    "if \"age\" in person:\n",
    "    print(f\"Age: {person['age']}\")\n",
    "\n",
    "print(f\"Dictionary length: {len(person)}\")"
   ]
  },
  {
   "cell_type": "markdown",
   "id": "c7047a96",
   "metadata": {},
   "source": [
    "# 2. Modifying Dictionaries"
   ]
  },
  {
   "cell_type": "code",
   "execution_count": null,
   "id": "7fc0d325",
   "metadata": {},
   "outputs": [],
   "source": [
    "# Adding and updating values\n",
    "student = {\"name\": \"Bob\", \"grade\": 85}\n",
    "student[\"age\"] = 20             # Add new key-value pair\n",
    "student[\"grade\"] = 90           # Update existing value\n",
    "print(student)\n",
    "\n",
    "# Removing items\n",
    "del student[\"age\"]              # Remove specific key\n",
    "removed_grade = student.pop(\"grade\", \"No grade\")  # Remove and return value\n",
    "print(f\"Removed grade: {removed_grade}\")\n",
    "\n",
    "# Clear all items\n",
    "test_dict = {\"a\": 1, \"b\": 2}\n",
    "test_dict.clear()\n",
    "print(f\"After clear: {test_dict}\")\n",
    "\n",
    "# Update multiple items\n",
    "info = {\"name\": \"Charlie\"}\n",
    "info.update({\"age\": 25, \"city\": \"Boston\", \"job\": \"Developer\"})\n",
    "print(info)"
   ]
  },
  {
   "cell_type": "markdown",
   "id": "81620c66",
   "metadata": {},
   "source": [
    "# 3. Dictionary Iteration and Methods"
   ]
  },
  {
   "cell_type": "code",
   "execution_count": null,
   "id": "82e4c86c",
   "metadata": {},
   "outputs": [],
   "source": [
    "# Different ways to iterate\n",
    "scores = {\"Alice\": 95, \"Bob\": 87, \"Charlie\": 92}\n",
    "\n",
    "# Iterate through keys\n",
    "for name in scores:\n",
    "    print(f\"{name}: {scores[name]}\")\n",
    "\n",
    "# Iterate through key-value pairs\n",
    "for name, score in scores.items():\n",
    "    print(f\"{name} scored {score}\")\n",
    "\n",
    "# Iterate through values only\n",
    "for score in scores.values():\n",
    "    print(f\"Score: {score}\")\n",
    "\n",
    "# Dictionary methods\n",
    "print(f\"Keys: {list(scores.keys())}\")\n",
    "print(f\"Values: {list(scores.values())}\")\n",
    "print(f\"Items: {list(scores.items())}\")\n",
    "\n",
    "# Finding max/min\n",
    "best_student = max(scores, key=scores.get)\n",
    "worst_student = min(scores, key=scores.get)\n",
    "print(f\"Best: {best_student} ({scores[best_student]})\")\n",
    "print(f\"Worst: {worst_student} ({scores[worst_student]})\")\n",
    "\n",
    "# Dictionary comprehension\n",
    "doubled_scores = {name: score * 2 for name, score in scores.items()}\n",
    "print(f\"Doubled: {doubled_scores}\")"
   ]
  },
  {
   "cell_type": "markdown",
   "id": "a0eee81c",
   "metadata": {},
   "source": [
    "# Practice Exercises\n",
    "\n",
    "Complete the following exercises to practice dictionaries:"
   ]
  },
  {
   "cell_type": "code",
   "execution_count": null,
   "id": "219373de",
   "metadata": {},
   "outputs": [],
   "source": [
    "# Exercise 1: Student gradebook\n",
    "gradebook = {\n",
    "    \"Alice\": [85, 92, 78],\n",
    "    \"Bob\": [76, 88, 91],\n",
    "    \"Charlie\": [94, 87, 89]\n",
    "}\n",
    "\n",
    "# Calculate averages\n",
    "for student, grades in gradebook.items():\n",
    "    average = sum(grades) / len(grades)\n",
    "    print(f\"{student}: {average:.1f}\")\n",
    "\n",
    "# Exercise 2: Inventory management\n",
    "inventory = {\"apples\": 50, \"bananas\": 30, \"oranges\": 25}\n",
    "\n",
    "# Add new items\n",
    "inventory[\"grapes\"] = 40\n",
    "inventory[\"pears\"] = 15\n",
    "\n",
    "# Update existing\n",
    "inventory[\"apples\"] += 20\n",
    "\n",
    "# Calculate total value (assume price per item)\n",
    "prices = {\"apples\": 1.2, \"bananas\": 0.8, \"oranges\": 1.5, \"grapes\": 2.0, \"pears\": 1.8}\n",
    "total_value = sum(inventory[item] * prices[item] for item in inventory)\n",
    "print(f\"Total inventory value: ${total_value:.2f}\")\n",
    "\n",
    "# Exercise 3: Word frequency counter\n",
    "text = \"python is great python is powerful python is fun\"\n",
    "words = text.split()\n",
    "word_count = {}\n",
    "\n",
    "for word in words:\n",
    "    word_count[word] = word_count.get(word, 0) + 1\n",
    "\n",
    "print(\"Word frequencies:\")\n",
    "for word, count in word_count.items():\n",
    "    print(f\"{word}: {count}\")\n",
    "\n",
    "# Exercise 4: Contact book\n",
    "contacts = {\n",
    "    \"Alice\": {\"phone\": \"123-456-7890\", \"email\": \"alice@email.com\"},\n",
    "    \"Bob\": {\"phone\": \"987-654-3210\", \"email\": \"bob@email.com\"}\n",
    "}\n",
    "\n",
    "# Add new contact\n",
    "contacts[\"Charlie\"] = {\"phone\": \"555-123-4567\", \"email\": \"charlie@email.com\"}\n",
    "\n",
    "# Search for contact\n",
    "search_name = \"Alice\"\n",
    "if search_name in contacts:\n",
    "    contact = contacts[search_name]\n",
    "    print(f\"{search_name}: {contact['phone']}, {contact['email']}\")\n",
    "else:\n",
    "    print(f\"{search_name} not found\")"
   ]
  }
 ],
 "metadata": {
  "language_info": {
   "name": "python"
  }
 },
 "nbformat": 4,
 "nbformat_minor": 5
}

{
 "cells": [
  {
   "cell_type": "markdown",
   "id": "1df82f52",
   "metadata": {},
   "source": [
    "# Tuples and Sets\n",
    "\n",
    "## Learning Objectives\n",
    "By the end of this lesson, you will be able to:\n",
    "- Create and use tuples for immutable data storage\n",
    "- Understand when to use tuples vs lists\n",
    "- Create and manipulate sets for unique collections\n",
    "- Perform set operations like union, intersection, and difference\n",
    "- Choose the right data structure for different problems\n",
    "\n",
    "## Core Concepts\n",
    "- **Tuple**: Ordered, immutable collection of items\n",
    "- **Immutable**: Cannot be changed after creation\n",
    "- **Set**: Unordered collection of unique items\n",
    "- **Set Operations**: Mathematical operations like union (|), intersection (&)\n",
    "- **Hashable**: Items that can be used as dictionary keys or set elements"
   ]
  },
  {
   "cell_type": "markdown",
   "id": "77305aab",
   "metadata": {},
   "source": [
    "# 1. Tuples"
   ]
  },
  {
   "cell_type": "code",
   "execution_count": null,
   "id": "b08c8bcf",
   "metadata": {},
   "outputs": [],
   "source": [
    "# Creating tuples\n",
    "coordinates = (3, 5)\n",
    "colors = (\"red\", \"green\", \"blue\")\n",
    "mixed = (1, \"hello\", True, 3.14)\n",
    "\n",
    "# Single item tuple (note the comma)\n",
    "single = (42,)\n",
    "print(f\"Single tuple: {single}\")\n",
    "\n",
    "# Accessing tuple elements\n",
    "print(f\"X: {coordinates[0]}, Y: {coordinates[1]}\")\n",
    "print(f\"First color: {colors[0]}\")\n",
    "\n",
    "# Tuple unpacking\n",
    "x, y = coordinates\n",
    "red, green, blue = colors\n",
    "print(f\"Unpacked: x={x}, y={y}\")\n",
    "\n",
    "# Tuple methods\n",
    "numbers = (1, 2, 3, 2, 4, 2)\n",
    "print(f\"Count of 2: {numbers.count(2)}\")\n",
    "print(f\"Index of 3: {numbers.index(3)}\")"
   ]
  },
  {
   "cell_type": "markdown",
   "id": "2f6f03d2",
   "metadata": {},
   "source": [
    "# 2. Sets"
   ]
  },
  {
   "cell_type": "code",
   "execution_count": null,
   "id": "75e892f9",
   "metadata": {},
   "outputs": [],
   "source": [
    "# Creating sets\n",
    "fruits = {\"apple\", \"banana\", \"orange\"}\n",
    "numbers_set = {1, 2, 3, 4, 5}\n",
    "empty_set = set()  # Note: {} creates an empty dict, not set\n",
    "\n",
    "# Adding and removing from sets\n",
    "fruits.add(\"grape\")\n",
    "fruits.remove(\"banana\")  # KeyError if not found\n",
    "fruits.discard(\"kiwi\")   # No error if not found\n",
    "print(f\"Fruits: {fruits}\")\n",
    "\n",
    "# Sets automatically remove duplicates\n",
    "numbers_list = [1, 2, 2, 3, 3, 4, 5]\n",
    "unique_numbers = set(numbers_list)\n",
    "print(f\"Unique numbers: {unique_numbers}\")"
   ]
  },
  {
   "cell_type": "markdown",
   "id": "0c39a1c9",
   "metadata": {},
   "source": [
    "# 3. Set Operations"
   ]
  },
  {
   "cell_type": "code",
   "execution_count": null,
   "id": "56bc01ea",
   "metadata": {},
   "outputs": [],
   "source": [
    "# Set operations\n",
    "set_a = {1, 2, 3, 4}\n",
    "set_b = {3, 4, 5, 6}\n",
    "\n",
    "print(f\"Union: {set_a | set_b}\")           # All unique items\n",
    "print(f\"Intersection: {set_a & set_b}\")    # Common items\n",
    "print(f\"Difference: {set_a - set_b}\")      # Items in A but not B\n",
    "print(f\"Symmetric diff: {set_a ^ set_b}\")  # Items in either but not both\n",
    "\n",
    "# Checking relationships\n",
    "print(f\"Is {set_a} subset of {set_b}? {set_a.issubset(set_b)}\")\n",
    "print(f\"Is {set_a} superset of {set_b}? {set_a.issuperset(set_b)}\")\n",
    "\n",
    "# Fast membership testing\n",
    "large_set = set(range(1000000))\n",
    "print(f\"500000 in large set: {500000 in large_set}\")  # Very fast"
   ]
  },
  {
   "cell_type": "markdown",
   "id": "55162795",
   "metadata": {},
   "source": [
    "# Practice Exercises\n",
    "\n",
    "Complete the following exercises to practice tuples and sets:"
   ]
  },
  {
   "cell_type": "code",
   "execution_count": null,
   "id": "d3df9f1d",
   "metadata": {},
   "outputs": [],
   "source": [
    "# Exercise 1: Coordinate system\n",
    "points = [(0, 0), (1, 2), (3, 4), (1, 2)]\n",
    "unique_points = set(points)\n",
    "print(f\"Unique points: {unique_points}\")\n",
    "\n",
    "# Exercise 2: Student courses\n",
    "alice_courses = {\"Math\", \"Science\", \"English\", \"History\"}\n",
    "bob_courses = {\"Science\", \"Art\", \"English\", \"Music\"}\n",
    "\n",
    "common_courses = alice_courses & bob_courses\n",
    "alice_only = alice_courses - bob_courses\n",
    "all_courses = alice_courses | bob_courses\n",
    "\n",
    "print(f\"Common courses: {common_courses}\")\n",
    "print(f\"Alice only: {alice_only}\")\n",
    "print(f\"Total courses: {len(all_courses)}\")\n",
    "\n",
    "# Exercise 3: RGB color tuple\n",
    "def create_color(red, green, blue):\n",
    "    return (red, green, blue)\n",
    "\n",
    "def get_brightness(color):\n",
    "    return sum(color) / 3\n",
    "\n",
    "red_color = create_color(255, 0, 0)\n",
    "print(f\"Red color: {red_color}\")\n",
    "print(f\"Brightness: {get_brightness(red_color):.1f}\")\n",
    "\n",
    "# Exercise 4: Remove duplicates while preserving order\n",
    "def remove_duplicates(items):\n",
    "    seen = set()\n",
    "    result = []\n",
    "    for item in items:\n",
    "        if item not in seen:\n",
    "            seen.add(item)\n",
    "            result.append(item)\n",
    "    return result\n",
    "\n",
    "numbers = [1, 2, 3, 2, 4, 3, 5, 1]\n",
    "unique_ordered = remove_duplicates(numbers)\n",
    "print(f\"Original: {numbers}\")\n",
    "print(f\"Unique ordered: {unique_ordered}\")"
   ]
  }
 ],
 "metadata": {
  "language_info": {
   "name": "python"
  }
 },
 "nbformat": 4,
 "nbformat_minor": 5
}

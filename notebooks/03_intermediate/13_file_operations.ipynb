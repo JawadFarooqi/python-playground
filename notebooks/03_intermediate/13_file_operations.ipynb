{
 "cells": [
  {
   "cell_type": "markdown",
   "id": "bf0483a6",
   "metadata": {},
   "source": [
    "# File Operations\n",
    "\n",
    "## Learning Objectives\n",
    "By the end of this lesson, you will be able to:\n",
    "- Read from and write to text files\n",
    "- Handle different file modes and encoding\n",
    "- Process CSV files and structured data\n",
    "- Use context managers (with statement)\n",
    "- Handle file errors gracefully\n",
    "\n",
    "## Core Concepts\n",
    "- **File Object**: Python representation of a file\n",
    "- **File Modes**: 'r' (read), 'w' (write), 'a' (append)\n",
    "- **Context Manager**: 'with' statement for safe file handling\n",
    "- **CSV**: Comma-separated values format\n",
    "- **Encoding**: How text is stored (UTF-8 is standard)"
   ]
  },
  {
   "cell_type": "code",
   "execution_count": null,
   "id": "fce344a6",
   "metadata": {},
   "outputs": [],
   "source": [
    "# 1. Reading Files"
   ]
  },
  {
   "cell_type": "code",
   "execution_count": null,
   "id": "0fb0a050",
   "metadata": {},
   "outputs": [],
   "source": [
    "# Create a sample file for demonstration\n",
    "with open(\"sample.txt\", \"w\") as file:\n",
    "    file.write(\"Line 1: Hello, World!\\nLine 2: Python is awesome!\\nLine 3: File operations are useful!\")\n",
    "\n",
    "# Read entire file\n",
    "with open(\"sample.txt\", \"r\") as file:\n",
    "    content = file.read()\n",
    "    print(\"Full content:\")\n",
    "    print(content)\n",
    "\n",
    "# Read line by line\n",
    "with open(\"sample.txt\", \"r\") as file:\n",
    "    for line_num, line in enumerate(file, 1):\n",
    "        print(f\"Line {line_num}: {line.strip()}\")\n",
    "\n",
    "# Read into list\n",
    "with open(\"sample.txt\", \"r\") as file:\n",
    "    lines = file.readlines()\n",
    "    print(f\"Total lines: {len(lines)}\")"
   ]
  },
  {
   "cell_type": "markdown",
   "id": "c9ccfc1c",
   "metadata": {},
   "source": [
    "# 2. Writing Files"
   ]
  },
  {
   "cell_type": "code",
   "execution_count": null,
   "id": "5036fa85",
   "metadata": {},
   "outputs": [],
   "source": [
    "# Write new content (overwrites existing)\n",
    "with open(\"output.txt\", \"w\") as file:\n",
    "    file.write(\"This is a new file.\\n\")\n",
    "    file.write(\"Adding more content.\\n\")\n",
    "\n",
    "# Append to existing file\n",
    "with open(\"output.txt\", \"a\") as file:\n",
    "    file.write(\"This line is appended.\\n\")\n",
    "\n",
    "# Write list to file\n",
    "names = [\"Alice\", \"Bob\", \"Charlie\"]\n",
    "with open(\"names.txt\", \"w\") as file:\n",
    "    for name in names:\n",
    "        file.write(f\"{name}\\n\")"
   ]
  },
  {
   "cell_type": "markdown",
   "id": "14b98e86",
   "metadata": {},
   "source": [
    "# 3. CSV Files and Error Handling"
   ]
  },
  {
   "cell_type": "code",
   "execution_count": null,
   "id": "e87e9fd9",
   "metadata": {},
   "outputs": [],
   "source": [
    "# Working with CSV files\n",
    "import csv\n",
    "\n",
    "# Create sample CSV\n",
    "data = [\n",
    "    [\"Name\", \"Age\", \"City\"],\n",
    "    [\"Alice\", \"25\", \"New York\"],\n",
    "    [\"Bob\", \"30\", \"Los Angeles\"],\n",
    "    [\"Charlie\", \"35\", \"Chicago\"]\n",
    "]\n",
    "\n",
    "with open(\"people.csv\", \"w\", newline=\"\") as file:\n",
    "    writer = csv.writer(file)\n",
    "    writer.writerows(data)\n",
    "\n",
    "# Read CSV\n",
    "with open(\"people.csv\", \"r\") as file:\n",
    "    reader = csv.reader(file)\n",
    "    for row in reader:\n",
    "        print(row)\n",
    "\n",
    "# Error handling\n",
    "try:\n",
    "    with open(\"nonexistent.txt\", \"r\") as file:\n",
    "        content = file.read()\n",
    "except FileNotFoundError:\n",
    "    print(\"File not found!\")\n",
    "except PermissionError:\n",
    "    print(\"Permission denied!\")"
   ]
  },
  {
   "cell_type": "markdown",
   "id": "2abff196",
   "metadata": {},
   "source": [
    "# Practice Exercises\n",
    "\n",
    "Complete the following exercises to practice file operations:"
   ]
  },
  {
   "cell_type": "code",
   "execution_count": null,
   "id": "cce27df2",
   "metadata": {},
   "outputs": [],
   "source": [
    "# Exercise 1: Create a simple log system\n",
    "import datetime\n",
    "\n",
    "with open(\"activity.log\", \"w\") as file:\n",
    "    file.write(f\"[{datetime.datetime.now()}] Application started\\n\")\n",
    "    file.write(f\"[{datetime.datetime.now()}] User logged in\\n\")\n",
    "    file.write(f\"[{datetime.datetime.now()}] File processed\\n\")\n",
    "\n",
    "with open(\"activity.log\", \"r\") as file:\n",
    "    lines = file.readlines()\n",
    "    print(f\"Log contains {len(lines)} entries\")\n",
    "\n",
    "# Exercise 2: Student grades management\n",
    "students_data = [\n",
    "    {\"name\": \"Alice\", \"math\": 95, \"science\": 87},\n",
    "    {\"name\": \"Bob\", \"math\": 78, \"science\": 92},\n",
    "    {\"name\": \"Charlie\", \"math\": 88, \"science\": 85}\n",
    "]\n",
    "\n",
    "with open(\"student_grades.csv\", \"w\", newline=\"\") as file:\n",
    "    fieldnames = [\"name\", \"math\", \"science\", \"average\"]\n",
    "    writer = csv.DictWriter(file, fieldnames=fieldnames)\n",
    "    writer.writeheader()\n",
    "    \n",
    "    for student in students_data:\n",
    "        student[\"average\"] = (student[\"math\"] + student[\"science\"]) / 2\n",
    "        writer.writerow(student)\n",
    "\n",
    "print(\"Student grades saved to CSV\")\n",
    "\n",
    "# Exercise 3: Text analysis\n",
    "text = \"Python is powerful. Python is versatile. Python is popular.\"\n",
    "with open(\"analysis.txt\", \"w\") as file:\n",
    "    file.write(text)\n",
    "\n",
    "word_frequency = {}\n",
    "with open(\"analysis.txt\", \"r\") as file:\n",
    "    content = file.read().lower().replace(\".\", \"\")\n",
    "    words = content.split()\n",
    "    for word in words:\n",
    "        word_frequency[word] = word_frequency.get(word, 0) + 1\n",
    "\n",
    "print(\"Word frequency analysis:\")\n",
    "for word, count in word_frequency.items():\n",
    "    print(f\"{word}: {count}\")"
   ]
  }
 ],
 "metadata": {
  "language_info": {
   "name": "python"
  }
 },
 "nbformat": 4,
 "nbformat_minor": 5
}
